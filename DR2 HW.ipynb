{
 "cells": [
  {
   "cell_type": "markdown",
   "metadata": {},
   "source": [
    "HW\n",
    "Перед вами объект сделки из AmoCRM.\n",
    "\n",
    "deal = {\n",
    "    'id': 1795469, \n",
    "    'name': 'Lead from: https://digitalgod.be/page4500864.html?utm_referrer=', \n",
    "    'responsible_user_id': 3037510, \n",
    "    'created_by': 3037510, \n",
    "    'created_at': 1547106499, \n",
    "    'updated_at': 1547107344, \n",
    "    'account_id': 23668636, \n",
    "    'is_deleted': False, \n",
    "    'main_contact': {\n",
    "        'id': 10118771, \n",
    "        '_links': {\n",
    "            'self': {\n",
    "                'href': '/api/v2/contacts?id=10118771', \n",
    "                'method': 'get'\n",
    "            }\n",
    "        }\n",
    "    }, \n",
    "    'group_id': 0, \n",
    "    'company': {}, \n",
    "    'closed_at': 1547107243, \n",
    "    'closest_task_at': 0, \n",
    "    'tags': [\n",
    "        {\n",
    "            'id': 30577, \n",
    "            'name': \n",
    "            'tilda'\n",
    "        }\n",
    "    ], \n",
    "    'custom_fields': [\n",
    "        {\n",
    "            'id': 128813, \n",
    "            'name': 'COMMENTS', \n",
    "            'values': [\n",
    "                {\n",
    "                    'value': 'sdfdsf'\n",
    "                }\n",
    "            ], \n",
    "             'is_system': False\n",
    "        }, \n",
    "        {\n",
    "            'id': 129773, \n",
    "            'name': 'CID', \n",
    "            'values': [\n",
    "                {\n",
    "                    'value': '69296758.1544679970'\n",
    "                }\n",
    "            ], \n",
    "            'is_system': False\n",
    "        }, \n",
    "        {\n",
    "            'id': 129775, \n",
    "            'name': 'UID', \n",
    "            'values': [\n",
    "                {\n",
    "                    'value': '6450101900745375744'\n",
    "                }\n",
    "            ], \n",
    "            'is_system': False\n",
    "        }, \n",
    "        {\n",
    "            'id': 128815, \n",
    "            'name': 'TRANID', \n",
    "            'values': [\n",
    "                {\n",
    "                    'value': '681808:125327642'\n",
    "                }\n",
    "            ], \n",
    "            'is_system': False\n",
    "        }, \n",
    "        {\n",
    "            'id': 128819, \n",
    "            'name': 'FORMID', \n",
    "            'values': [\n",
    "                {\n",
    "                    'value': 'form82325525'\n",
    "                }\n",
    "            ], \n",
    "            'is_system': False\n",
    "        }, \n",
    "        {\n",
    "            'id': 128821, \n",
    "            'name': 'REFERER', \n",
    "            'values': [\n",
    "                {\n",
    "                    'value': 'https://digitalgod.be/page4500864.html?utm_referrer='\n",
    "                }\n",
    "            ], \n",
    "            'is_system': False\n",
    "        }\n",
    "    ], \n",
    "    'contacts': {\n",
    "        'id': [10118771, 10120393], \n",
    "        '_links': {\n",
    "            'self': {\n",
    "                'href': '/api/v2/contacts?id=10118771,10120393', \n",
    "                'method': 'get'\n",
    "            }\n",
    "        }\n",
    "    }, \n",
    "    'status_id': 142, \n",
    "    'sale': 70000, \n",
    "    'loss_reason_id': 0, \n",
    "    'pipeline': {\n",
    "        'id': 1543696, \n",
    "        '_links': {\n",
    "            'self': {\n",
    "                'href': '/api/v2/pipelines?id=1543696', \n",
    "                'method': 'get'\n",
    "            }\n",
    "        }\n",
    "    }, \n",
    "    '_links': {\n",
    "        'self': {\n",
    "            'href': '/api/v2/leads?id=1795469', \n",
    "            'method': 'get'\n",
    "        }\n",
    "    }\n",
    "}\n",
    "Требуется:\n",
    "\n",
    "Распечатать его id и name (print(...))\n",
    "Распечатать значение UID из custom_fields\n",
    "Преобразовать список custom_fields в словарь вида {'uid': '6450101900745375744', 'cid': '....}"
   ]
  },
  {
   "cell_type": "code",
   "execution_count": 33,
   "metadata": {},
   "outputs": [],
   "source": [
    "deal = {\n",
    "    'id': 1795469, \n",
    "    'name': 'Lead from: https://digitalgod.be/page4500864.html?utm_referrer=', \n",
    "    'responsible_user_id': 3037510, \n",
    "    'created_by': 3037510, \n",
    "    'created_at': 1547106499, \n",
    "    'updated_at': 1547107344, \n",
    "    'account_id': 23668636, \n",
    "    'is_deleted': False, \n",
    "    'main_contact': {\n",
    "        'id': 10118771, \n",
    "        '_links': {\n",
    "            'self': {\n",
    "                'href': '/api/v2/contacts?id=10118771', \n",
    "                'method': 'get'\n",
    "            }\n",
    "        }\n",
    "    }, \n",
    "    'group_id': 0, \n",
    "    'company': {}, \n",
    "    'closed_at': 1547107243, \n",
    "    'closest_task_at': 0, \n",
    "    'tags': [\n",
    "        {\n",
    "            'id': 30577, \n",
    "            'name': \n",
    "            'tilda'\n",
    "        }\n",
    "    ], \n",
    "    'custom_fields': [\n",
    "        {\n",
    "            'id': 128813, \n",
    "            'name': 'COMMENTS', \n",
    "            'values': [\n",
    "                {\n",
    "                    'value': 'sdfdsf'\n",
    "                }\n",
    "            ], \n",
    "             'is_system': False\n",
    "        }, \n",
    "        {\n",
    "            'id': 129773, \n",
    "            'name': 'CID', \n",
    "            'values': [\n",
    "                {\n",
    "                    'value': '69296758.1544679970'\n",
    "                }\n",
    "            ], \n",
    "            'is_system': False\n",
    "        }, \n",
    "        {\n",
    "            'id': 129775, \n",
    "            'name': 'UID', \n",
    "            'values': [\n",
    "                {\n",
    "                    'value': '6450101900745375744'\n",
    "                }\n",
    "            ], \n",
    "            'is_system': False\n",
    "        }, \n",
    "        {\n",
    "            'id': 128815, \n",
    "            'name': 'TRANID', \n",
    "            'values': [\n",
    "                {\n",
    "                    'value': '681808:125327642'\n",
    "                }\n",
    "            ], \n",
    "            'is_system': False\n",
    "        }, \n",
    "        {\n",
    "            'id': 128819, \n",
    "            'name': 'FORMID', \n",
    "            'values': [\n",
    "                {\n",
    "                    'value': 'form82325525'\n",
    "                }\n",
    "            ], \n",
    "            'is_system': False\n",
    "        }, \n",
    "        {\n",
    "            'id': 128821, \n",
    "            'name': 'REFERER', \n",
    "            'values': [\n",
    "                {\n",
    "                    'value': 'https://digitalgod.be/page4500864.html?utm_referrer='\n",
    "                }\n",
    "            ], \n",
    "            'is_system': False\n",
    "        }\n",
    "    ], \n",
    "    'contacts': {\n",
    "        'id': [10118771, 10120393], \n",
    "        '_links': {\n",
    "            'self': {\n",
    "                'href': '/api/v2/contacts?id=10118771,10120393', \n",
    "                'method': 'get'\n",
    "            }\n",
    "        }\n",
    "    }, \n",
    "    'status_id': 142, \n",
    "    'sale': 70000, \n",
    "    'loss_reason_id': 0, \n",
    "    'pipeline': {\n",
    "        'id': 1543696, \n",
    "        '_links': {\n",
    "            'self': {\n",
    "                'href': '/api/v2/pipelines?id=1543696', \n",
    "                'method': 'get'\n",
    "            }\n",
    "        }\n",
    "    }, \n",
    "    '_links': {\n",
    "        'self': {\n",
    "            'href': '/api/v2/leads?id=1795469', \n",
    "            'method': 'get'\n",
    "        }\n",
    "    }\n",
    "}"
   ]
  },
  {
   "cell_type": "code",
   "execution_count": 34,
   "metadata": {},
   "outputs": [],
   "source": [
    "# 1. Распечатать его id и name (print(...))"
   ]
  },
  {
   "cell_type": "code",
   "execution_count": 35,
   "metadata": {},
   "outputs": [],
   "source": [
    "import json"
   ]
  },
  {
   "cell_type": "code",
   "execution_count": 36,
   "metadata": {},
   "outputs": [
    {
     "name": "stdout",
     "output_type": "stream",
     "text": [
      "Collecting git+https://github.com/madiedinro/rodin_helpers_py\n",
      "  Cloning https://github.com/madiedinro/rodin_helpers_py to /tmp/pip-req-build-q9py9yt0\n",
      "Requirement already satisfied (use --upgrade to upgrade): rodin-helpers==0.1.1 from git+https://github.com/madiedinro/rodin_helpers_py in /opt/conda/lib/python3.7/site-packages\n",
      "Requirement already satisfied: ujson<2,>=1.35 in /opt/conda/lib/python3.7/site-packages (from rodin-helpers==0.1.1) (1.35)\n",
      "Building wheels for collected packages: rodin-helpers\n",
      "  Building wheel for rodin-helpers (setup.py) ... \u001b[?25ldone\n",
      "\u001b[?25h  Stored in directory: /tmp/pip-ephem-wheel-cache-9xgec7kg/wheels/9a/ae/bc/11ec3eb5e0e32931f5119ecf8cc91c060adc970a2025d3aad0\n",
      "Successfully built rodin-helpers\n"
     ]
    }
   ],
   "source": [
    "!pip install git+https://github.com/madiedinro/rodin_helpers_py\n",
    "import rodin_helpers as rh"
   ]
  },
  {
   "cell_type": "code",
   "execution_count": 37,
   "metadata": {},
   "outputs": [
    {
     "data": {
      "text/plain": [
       "<function rodin_helpers.walk(item, level=0, path=[], limit_list=None)>"
      ]
     },
     "execution_count": 37,
     "metadata": {},
     "output_type": "execute_result"
    }
   ],
   "source": [
    "rh.walk"
   ]
  },
  {
   "cell_type": "code",
   "execution_count": 39,
   "metadata": {},
   "outputs": [
    {
     "name": "stdout",
     "output_type": "stream",
     "text": [
      "[dict  \n",
      "|      id=1795469\n",
      "|      name=Lead from: https://digitalgod.be/page4500864.html?utm_referrer=\n",
      "|      responsible_user_id=3037510\n",
      "|      created_by=3037510\n",
      "|      created_at=1547106499\n",
      "|      updated_at=1547107344\n",
      "|      account_id=23668636\n",
      "|      is_deleted=False\n",
      "[dict  main_contact\n",
      "|      main_contact > id=10118771\n",
      "[dict  main_contact > _links\n",
      "[dict  main_contact > _links > self\n",
      "|      main_contact > _links > self > href=/api/v2/contacts?id=10118771\n",
      "|      main_contact > _links > self > method=get\n",
      "|      group_id=0\n",
      "[dict  company\n",
      "|      closed_at=1547107243\n",
      "|      closest_task_at=0\n",
      "[list  tags\n",
      "[dict  tags > 0\n",
      "|      tags > 0 > id=30577\n",
      "|      tags > 0 > name=tilda\n",
      "[list  custom_fields\n",
      "[dict  custom_fields > 0\n",
      "|      custom_fields > 0 > id=128813\n",
      "|      custom_fields > 0 > name=COMMENTS\n",
      "[list  custom_fields > 0 > values\n",
      "[dict  custom_fields > 0 > values > 0\n",
      "|      custom_fields > 0 > values > 0 > value=sdfdsf\n",
      "|      custom_fields > 0 > is_system=False\n",
      "[dict  custom_fields > 1\n",
      "|      custom_fields > 1 > id=129773\n",
      "|      custom_fields > 1 > name=CID\n",
      "[list  custom_fields > 1 > values\n",
      "[dict  custom_fields > 1 > values > 0\n",
      "|      custom_fields > 1 > values > 0 > value=69296758.1544679970\n",
      "|      custom_fields > 1 > is_system=False\n",
      "[dict  custom_fields > 2\n",
      "|      custom_fields > 2 > id=129775\n",
      "|      custom_fields > 2 > name=UID\n",
      "[list  custom_fields > 2 > values\n",
      "[dict  custom_fields > 2 > values > 0\n",
      "|      custom_fields > 2 > values > 0 > value=6450101900745375744\n",
      "|      custom_fields > 2 > is_system=False\n",
      "[dict  custom_fields > 3\n",
      "|      custom_fields > 3 > id=128815\n",
      "|      custom_fields > 3 > name=TRANID\n",
      "[list  custom_fields > 3 > values\n",
      "[dict  custom_fields > 3 > values > 0\n",
      "|      custom_fields > 3 > values > 0 > value=681808:125327642\n",
      "|      custom_fields > 3 > is_system=False\n",
      "[dict  custom_fields > 4\n",
      "|      custom_fields > 4 > id=128819\n",
      "|      custom_fields > 4 > name=FORMID\n",
      "[list  custom_fields > 4 > values\n",
      "[dict  custom_fields > 4 > values > 0\n",
      "|      custom_fields > 4 > values > 0 > value=form82325525\n",
      "|      custom_fields > 4 > is_system=False\n",
      "[dict  custom_fields > 5\n",
      "|      custom_fields > 5 > id=128821\n",
      "|      custom_fields > 5 > name=REFERER\n",
      "[list  custom_fields > 5 > values\n",
      "[dict  custom_fields > 5 > values > 0\n",
      "|      custom_fields > 5 > values > 0 > value=https://digitalgod.be/page4500864.html?utm_referrer=\n",
      "|      custom_fields > 5 > is_system=False\n",
      "[dict  contacts\n",
      "[list  contacts > id\n",
      "|      contacts > id > 0=10118771\n",
      "|      contacts > id > 1=10120393\n",
      "[dict  contacts > _links\n",
      "[dict  contacts > _links > self\n",
      "|      contacts > _links > self > href=/api/v2/contacts?id=10118771,10120393\n",
      "|      contacts > _links > self > method=get\n",
      "|      status_id=142\n",
      "|      sale=70000\n",
      "|      loss_reason_id=0\n",
      "[dict  pipeline\n",
      "|      pipeline > id=1543696\n",
      "[dict  pipeline > _links\n",
      "[dict  pipeline > _links > self\n",
      "|      pipeline > _links > self > href=/api/v2/pipelines?id=1543696\n",
      "|      pipeline > _links > self > method=get\n",
      "[dict  _links\n",
      "[dict  _links > self\n",
      "|      _links > self > href=/api/v2/leads?id=1795469\n",
      "|      _links > self > method=get\n"
     ]
    }
   ],
   "source": [
    "rh.walk(deal)"
   ]
  },
  {
   "cell_type": "markdown",
   "metadata": {},
   "source": [
    "**ДОМАШКА - Выполнение**"
   ]
  },
  {
   "cell_type": "code",
   "execution_count": null,
   "metadata": {},
   "outputs": [],
   "source": [
    "# Распечатать его id и name (print(...))"
   ]
  },
  {
   "cell_type": "code",
   "execution_count": 107,
   "metadata": {},
   "outputs": [
    {
     "name": "stdout",
     "output_type": "stream",
     "text": [
      "Айдишник: 1795469 \n",
      "Имя:  Lead from: https://digitalgod.be/page4500864.html?utm_referrer=\n"
     ]
    }
   ],
   "source": [
    "print('Айдишник:',deal['id'],'\\nИмя: ',deal['name'])"
   ]
  },
  {
   "cell_type": "code",
   "execution_count": 108,
   "metadata": {},
   "outputs": [
    {
     "data": {
      "text/plain": [
       "{'id': 129775,\n",
       " 'name': 'UID',\n",
       " 'values': [{'value': '6450101900745375744'}],\n",
       " 'is_system': False}"
      ]
     },
     "execution_count": 108,
     "metadata": {},
     "output_type": "execute_result"
    }
   ],
   "source": [
    "# custom_fields > 2 > values > 0 > value=6450101900745375744\n",
    "custom_fields = deal['custom_fields'][2]\n",
    "custom_fields"
   ]
  },
  {
   "cell_type": "code",
   "execution_count": 109,
   "metadata": {},
   "outputs": [
    {
     "data": {
      "text/plain": [
       "[{'value': '6450101900745375744'}]"
      ]
     },
     "execution_count": 109,
     "metadata": {},
     "output_type": "execute_result"
    }
   ],
   "source": [
    "UID_value_list = custom_fields['values']\n",
    "UID_value_list"
   ]
  },
  {
   "cell_type": "code",
   "execution_count": 110,
   "metadata": {},
   "outputs": [
    {
     "data": {
      "text/plain": [
       "'6450101900745375744'"
      ]
     },
     "execution_count": 110,
     "metadata": {},
     "output_type": "execute_result"
    }
   ],
   "source": [
    "UID_value = UID_value_list[0]['value']\n",
    "UID_value"
   ]
  },
  {
   "cell_type": "code",
   "execution_count": 111,
   "metadata": {},
   "outputs": [],
   "source": [
    "# Преобразовать список custom_fields в словарь вида {'uid': '6450101900745375744', 'cid': '....}\n",
    "deal_list = deal['custom_fields']"
   ]
  },
  {
   "cell_type": "code",
   "execution_count": 112,
   "metadata": {},
   "outputs": [
    {
     "data": {
      "text/plain": [
       "{'id': 128813,\n",
       " 'name': 'COMMENTS',\n",
       " 'values': [{'value': 'sdfdsf'}],\n",
       " 'is_system': False}"
      ]
     },
     "execution_count": 112,
     "metadata": {},
     "output_type": "execute_result"
    }
   ],
   "source": [
    "deal_list[0]"
   ]
  },
  {
   "cell_type": "code",
   "execution_count": 113,
   "metadata": {},
   "outputs": [
    {
     "data": {
      "text/plain": [
       "{'COMMENTS': 'sdfdsf',\n",
       " 'CID': '69296758.1544679970',\n",
       " 'UID': '6450101900745375744',\n",
       " 'TRANID': '681808:125327642',\n",
       " 'FORMID': 'form82325525',\n",
       " 'REFERER': 'https://digitalgod.be/page4500864.html?utm_referrer='}"
      ]
     },
     "execution_count": 113,
     "metadata": {},
     "output_type": "execute_result"
    }
   ],
   "source": [
    "key_value_dict = {}\n",
    "for custom_field in deal_list:\n",
    "    name = custom_field['name']\n",
    "    key_value_dict[name] = custom_field['values'][0]['value']\n",
    "key_value_dict    "
   ]
  },
  {
   "cell_type": "code",
   "execution_count": null,
   "metadata": {},
   "outputs": [],
   "source": []
  }
 ],
 "metadata": {
  "kernelspec": {
   "display_name": "Python 3",
   "language": "python",
   "name": "python3"
  },
  "language_info": {
   "codemirror_mode": {
    "name": "ipython",
    "version": 3
   },
   "file_extension": ".py",
   "mimetype": "text/x-python",
   "name": "python",
   "nbconvert_exporter": "python",
   "pygments_lexer": "ipython3",
   "version": "3.7.1"
  }
 },
 "nbformat": 4,
 "nbformat_minor": 2
}
